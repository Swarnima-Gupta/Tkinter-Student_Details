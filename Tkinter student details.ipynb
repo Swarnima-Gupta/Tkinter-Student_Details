{
 "cells": [
  {
   "cell_type": "code",
   "execution_count": 1,
   "metadata": {},
   "outputs": [],
   "source": [
    "from tkinter import*"
   ]
  },
  {
   "cell_type": "code",
   "execution_count": 2,
   "metadata": {},
   "outputs": [],
   "source": [
    "master = Tk()\n",
    "myText = StringVar()\n",
    "label1=Label(master, text=\"Student Name\").grid(row=0, sticky=W)\n",
    "label2=Label(master, text=\"Reg No\").grid(row=1, sticky=W)\n",
    "label3=Label(master, text=\"Semester\").grid(row=2, sticky=W)\n",
    "label4=Label(master, text=\"Info: \").grid(row=5, sticky=W)\n",
    "result = Label(master, text=\"\", textvariable=myText).grid(row=5, column=1, sticky=W)\n",
    "\n",
    "e1 = Entry(master)\n",
    "e2 = Entry(master)\n",
    "e3 = Entry(master)\n",
    "\n",
    "e1.grid(row=0, column=1)\n",
    "e2.grid(row=1, column=1)\n",
    "e3.grid(row=2, column=1)\n",
    "\n",
    "label1=e1.get()\n",
    "label2=e2.get()\n",
    "label3=e3.get()\n",
    "\n",
    "def returnLabel():\n",
    "    res=(\"Name is: {}, Reg No. is: {} and Semester is: {} .\".format(e1.get(),e2.get(),e3.get()))\n",
    "    #res=print(e1.get(), e2.get(), e3.get())\n",
    "    myText.set(res)\n",
    "    #print(e1.get(), e2.get(), e3.get())\n",
    "\n",
    "b = Button(master, text=\"Print info\", command=returnLabel)\n",
    "b.grid(row=0, column=2, columnspan=2, rowspan=2, sticky=W + E + N + S, padx=5, pady=5)\n",
    "\n",
    "mainloop()\n",
    "\n"
   ]
  },
  {
   "cell_type": "code",
   "execution_count": null,
   "metadata": {},
   "outputs": [],
   "source": []
  }
 ],
 "metadata": {
  "kernelspec": {
   "display_name": "Python 3",
   "language": "python",
   "name": "python3"
  },
  "language_info": {
   "codemirror_mode": {
    "name": "ipython",
    "version": 3
   },
   "file_extension": ".py",
   "mimetype": "text/x-python",
   "name": "python",
   "nbconvert_exporter": "python",
   "pygments_lexer": "ipython3",
   "version": "3.8.5"
  }
 },
 "nbformat": 4,
 "nbformat_minor": 4
}
